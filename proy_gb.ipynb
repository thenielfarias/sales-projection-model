{
  "nbformat": 4,
  "nbformat_minor": 0,
  "metadata": {
    "colab": {
      "provenance": []
    },
    "kernelspec": {
      "name": "python3",
      "display_name": "Python 3"
    },
    "language_info": {
      "name": "python"
    }
  },
  "cells": [
    {
      "cell_type": "code",
      "source": [
        "import numpy as np\n",
        "import pandas as pd\n",
        "from sklearn.model_selection import train_test_split\n",
        "from sklearn.preprocessing import OneHotEncoder, StandardScaler\n",
        "from sklearn.compose import ColumnTransformer\n",
        "from sklearn.pipeline import Pipeline\n",
        "from sklearn.ensemble import RandomForestRegressor\n",
        "\n",
        "# Carregar os dados\n",
        "data = pd.read_csv('base_resorts_modelo_proy_gb.csv')\n",
        "\n",
        "# Remover a coluna 'hotel'\n",
        "data = data.drop(columns=['hotel'])\n",
        "\n",
        "# Transformar as variáveis categóricas em numéricas\n",
        "categorical_features = ['cod_pais', 'cod_destino']\n",
        "numerical_features = data.columns.drop(categorical_features + ['gb_anio_pasado'])\n",
        "\n",
        "preprocessor = ColumnTransformer(\n",
        "    transformers=[\n",
        "        ('num', StandardScaler(), numerical_features),\n",
        "        ('cat', OneHotEncoder(handle_unknown='ignore'), categorical_features)\n",
        "    ])\n",
        "\n",
        "# Dividir os dados em treino e teste\n",
        "X = data.drop(columns=['gb_anio_pasado'])\n",
        "y = data['gb_anio_pasado']\n",
        "X_train, X_test, y_train, y_test = train_test_split(X, y, test_size=0.2, random_state=42)\n",
        "\n",
        "# Criar e treinar o modelo de Regressão de Floresta Aleatória\n",
        "model = Pipeline(steps=[\n",
        "    ('preprocessor', preprocessor),\n",
        "    ('regressor', RandomForestRegressor(n_estimators=100, random_state=42))\n",
        "])\n",
        "\n",
        "model.fit(X_train, y_train)\n",
        "\n",
        "# Avaliar o modelo\n",
        "y_pred = model.predict(X_test)\n",
        "results = pd.DataFrame({'Actual': y_test, 'Predicted': y_pred})\n",
        "#print(results)\n",
        "\n",
        "# Função para predição\n",
        "def predict_new(data):\n",
        "    df = pd.DataFrame(data)\n",
        "    return model.predict(df)\n",
        "\n",
        "# Nova predição\n",
        "new_data = {\n",
        "    'cod_pais': [''],\n",
        "    'cod_destino': [''],\n",
        "    'rooms': [],\n",
        "    'stars': [],\n",
        "    'range_ratescore': [],\n",
        "    'quadrante_adr': [],\n",
        "    'flag_media': [],\n",
        "    'flag_preferente': [],\n",
        "    'qtd_cupos': [],\n",
        "    'mat_cupos': [],\n",
        "    'soc_cupos': [],\n",
        "    'take_rate': []\n",
        "}\n",
        "\n",
        "prediction = predict_new(new_data)\n",
        "print(\"Predição:\", prediction)\n"
      ],
      "metadata": {
        "colab": {
          "base_uri": "https://localhost:8080/"
        },
        "id": "CH2T0UVn-BZl",
        "outputId": "714880cb-66a3-4cab-ed9b-a9a5e7ec4d37"
      },
      "execution_count": null,
      "outputs": [
        {
          "output_type": "stream",
          "name": "stdout",
          "text": [
            "Predição: [3911909.16523841]\n"
          ]
        }
      ]
    }
  ]
}